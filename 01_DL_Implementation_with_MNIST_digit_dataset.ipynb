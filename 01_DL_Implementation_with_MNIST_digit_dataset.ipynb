{
  "nbformat": 4,
  "nbformat_minor": 0,
  "metadata": {
    "colab": {
      "provenance": [],
      "authorship_tag": "ABX9TyMKKaxYNM2xaKXlcsld7V5T",
      "include_colab_link": true
    },
    "kernelspec": {
      "name": "python3",
      "display_name": "Python 3"
    },
    "language_info": {
      "name": "python"
    }
  },
  "cells": [
    {
      "cell_type": "markdown",
      "metadata": {
        "id": "view-in-github",
        "colab_type": "text"
      },
      "source": [
        "<a href=\"https://colab.research.google.com/github/tyfmanlapaz/Data-Science/blob/deep-learning/01_DL_Implementation_with_MNIST_digit_dataset.ipynb\" target=\"_parent\"><img src=\"https://colab.research.google.com/assets/colab-badge.svg\" alt=\"Open In Colab\"/></a>"
      ]
    },
    {
      "cell_type": "markdown",
      "source": [
        "# **1.2.1 Understanding math for DL with practical implementation**"
      ],
      "metadata": {
        "id": "d0LWzyxR3h9n"
      }
    },
    {
      "cell_type": "markdown",
      "source": [
        "To understand DL concepts in depth one needs to understand various mathematical concepts such as tensors, operations based on tensors, differentiation, integration, gradient descent, etc. Let us learn it practically.\n",
        "\n",
        "For this we are considering the MNIST digit dataset.\n",
        "Dataset: http://yann.lecun.com/exdb/mnist/"
      ],
      "metadata": {
        "id": "CH2P-4RU342T"
      }
    },
    {
      "cell_type": "code",
      "source": [
        "# adding seed for reproducibility\n",
        "seed(123)"
      ],
      "metadata": {
        "id": "Oe8MSU0pHVCG"
      },
      "execution_count": null,
      "outputs": []
    },
    {
      "cell_type": "markdown",
      "source": [
        "**Loading the MNIST dataset in Keras**"
      ],
      "metadata": {
        "id": "SxZrhckM4B3i"
      }
    },
    {
      "cell_type": "code",
      "source": [
        "from keras.datasets import mnist\n",
        "\n",
        "(x_train, y_train), (x_test, y_test) = mnist.load_data()"
      ],
      "metadata": {
        "colab": {
          "base_uri": "https://localhost:8080/"
        },
        "id": "ZjHbLTaO3zkP",
        "outputId": "808ee87d-7a02-45c7-d877-b5a17a77e1bb"
      },
      "execution_count": 1,
      "outputs": [
        {
          "output_type": "stream",
          "name": "stdout",
          "text": [
            "Downloading data from https://storage.googleapis.com/tensorflow/tf-keras-datasets/mnist.npz\n",
            "11490434/11490434 [==============================] - 0s 0us/step\n"
          ]
        }
      ]
    },
    {
      "cell_type": "markdown",
      "source": [
        "tr_images, tr_labels are used for training datasets and te_images and te_labels are used for the testing dataset.\n",
        "\n",
        "The model will be learnt from the training dataset and it will be applied to the testing dataset to evaluate the model.\n",
        "\n",
        "The whole image dataset is encoded as NumPy arrays and labels are an array of those digits which ranges from 0 to 9."
      ],
      "metadata": {
        "id": "jhmt5Dej4m5j"
      }
    },
    {
      "cell_type": "code",
      "source": [
        "tr_images = x_train\n",
        "tr_labels = y_train\n",
        "te_images = x_test\n",
        "te_labels = y_test"
      ],
      "metadata": {
        "id": "rM8j_EHC76TY"
      },
      "execution_count": 20,
      "outputs": []
    },
    {
      "cell_type": "markdown",
      "source": [
        "**Size of training dataset:**"
      ],
      "metadata": {
        "id": "4ehBNOhg8Us5"
      }
    },
    {
      "cell_type": "markdown",
      "source": [
        "The shape (60000, 28, 28) represents the dimensions of your tr_images dataset. Here’s what each number signifies:\n",
        "\n",
        "* 60000: This is the number of images in your training dataset. Each image is\n",
        "represented as a 2D array of pixels.\n",
        "* 28: This represents the height of each image in pixels. Each image in the MNIST dataset is 28 pixels high.\n",
        "* 28: This represents the width of each image in pixels. Each image in the MNIST dataset is 28 pixels wide.\n",
        "\n",
        "So, in summary, your training dataset consists of 60,000 images, each of which is 28 pixels in height and 28 pixels in width. Each pixel in an image represents a grayscale intensity from 0 (white) to 255 (black)."
      ],
      "metadata": {
        "id": "M8hWW-2JAH0f"
      }
    },
    {
      "cell_type": "code",
      "source": [
        "tr_images.shape   # get dimension of train dataset"
      ],
      "metadata": {
        "colab": {
          "base_uri": "https://localhost:8080/"
        },
        "id": "m7DC3mHm45hY",
        "outputId": "959eaf51-ee9d-4b89-8f8b-0a7eb459af5f"
      },
      "execution_count": 21,
      "outputs": [
        {
          "output_type": "execute_result",
          "data": {
            "text/plain": [
              "(60000, 28, 28)"
            ]
          },
          "metadata": {},
          "execution_count": 21
        }
      ]
    },
    {
      "cell_type": "code",
      "source": [
        "len(tr_labels)    # get the number of elements/rows in the array"
      ],
      "metadata": {
        "colab": {
          "base_uri": "https://localhost:8080/"
        },
        "id": "pcuyTA70-p5w",
        "outputId": "6de0ba16-5136-493a-e3ac-bae8d0687649"
      },
      "execution_count": 22,
      "outputs": [
        {
          "output_type": "execute_result",
          "data": {
            "text/plain": [
              "60000"
            ]
          },
          "metadata": {},
          "execution_count": 22
        }
      ]
    },
    {
      "cell_type": "code",
      "source": [
        "tr_labels         # print array"
      ],
      "metadata": {
        "colab": {
          "base_uri": "https://localhost:8080/"
        },
        "id": "Y9hpSKaQ_SA0",
        "outputId": "d48466c8-594e-48ca-f911-6fb133bb1e2e"
      },
      "execution_count": 23,
      "outputs": [
        {
          "output_type": "execute_result",
          "data": {
            "text/plain": [
              "array([5, 0, 4, ..., 5, 6, 8], dtype=uint8)"
            ]
          },
          "metadata": {},
          "execution_count": 23
        }
      ]
    },
    {
      "cell_type": "markdown",
      "source": [
        "**Size of testing dataset:**"
      ],
      "metadata": {
        "id": "I0b77i56AoyW"
      }
    },
    {
      "cell_type": "code",
      "source": [
        "te_images.shape   # get dimension of test dataset"
      ],
      "metadata": {
        "colab": {
          "base_uri": "https://localhost:8080/"
        },
        "id": "9KdpSap0ArSq",
        "outputId": "4648331c-b929-4401-9c63-73a820bb5420"
      },
      "execution_count": 24,
      "outputs": [
        {
          "output_type": "execute_result",
          "data": {
            "text/plain": [
              "(10000, 28, 28)"
            ]
          },
          "metadata": {},
          "execution_count": 24
        }
      ]
    },
    {
      "cell_type": "code",
      "source": [
        "len(te_labels)    # get the number of elements/rows in the array"
      ],
      "metadata": {
        "colab": {
          "base_uri": "https://localhost:8080/"
        },
        "id": "OOebxs7kA-5z",
        "outputId": "5d315093-aca3-45c2-add4-88d2c86fd4fb"
      },
      "execution_count": 25,
      "outputs": [
        {
          "output_type": "execute_result",
          "data": {
            "text/plain": [
              "10000"
            ]
          },
          "metadata": {},
          "execution_count": 25
        }
      ]
    },
    {
      "cell_type": "code",
      "source": [
        "te_labels        # print array"
      ],
      "metadata": {
        "colab": {
          "base_uri": "https://localhost:8080/"
        },
        "id": "NNAYNhhGBehy",
        "outputId": "4503e33a-5a70-4e89-fd15-58272d4eb196"
      },
      "execution_count": 26,
      "outputs": [
        {
          "output_type": "execute_result",
          "data": {
            "text/plain": [
              "array([7, 2, 1, ..., 4, 5, 6], dtype=uint8)"
            ]
          },
          "metadata": {},
          "execution_count": 26
        }
      ]
    },
    {
      "cell_type": "markdown",
      "source": [
        "\n",
        "**Building Network Architecture:**"
      ],
      "metadata": {
        "id": "lNnI_5fJBkjJ"
      }
    },
    {
      "cell_type": "code",
      "source": [
        "from keras import layers\n",
        "from keras import models\n",
        "\n",
        "net = models.Sequential()\n",
        "net.add(layers.Dense(512, activation='relu', input_shape=(28 * 28,)))\n",
        "net.add(layers.Dense(10, activation='softmax'))"
      ],
      "metadata": {
        "id": "tIWfesXyBs3l"
      },
      "execution_count": 28,
      "outputs": []
    },
    {
      "cell_type": "markdown",
      "source": [
        "**Step by Step code explanation:**\n",
        "\n",
        "This code is building a simple neural network model using Keras, a popular deep learning library in Python. Here’s what each part of the code does:\n",
        "\n",
        "* from keras import layers, models: This imports the necessary modules from Keras. layers and models are two modules in Keras that are used to create neural network models.\n",
        "* net = models.Sequential(): This initializes a new sequential model. Sequential is the easiest way to build a model in Keras. It allows you to build a model layer by layer. Each layer has weights that correspond to the layer that follows it.\n",
        "* net.add(layers.Dense(512, activation='relu', input_shape=(28 * 28,))): This adds the first layer to the neural network. This layer is a dense (also known as fully connected) layer with 512 neurons, and uses the ReLU (Rectified Linear Unit) activation function. The input_shape=(28 * 28,) specifies that the input to this layer is a 1D array of size 784 (since 28*28=784). This is because the MNIST images of size 28x28 are flattened to a 1D array before being fed to this layer.\n",
        "* net.add(layers.Dense(10, activation='softmax')): This adds the second layer to the neural network. This layer is also a dense layer and it has 10 neurons, one for each of the output classes (0-9 for the MNIST dataset). The softmax activation function is used in this layer to ensure the output values are in the range of 0 and 1 and sum up to 1. This makes it possible to interpret the outputs as probabilities.\n",
        "\n",
        "\n",
        "So, in summary, this code is creating a simple two-layer neural network for classifying the images in the MNIST dataset. The first layer has 512 neurons and uses the ReLU activation function, and the second layer has 10 neurons and uses the softmax activation function. The input images are flattened and fed into the first layer of the network. The output from the network will be a vector of 10 probabilities, one for each class."
      ],
      "metadata": {
        "id": "lxbavm-CDGHT"
      }
    },
    {
      "cell_type": "markdown",
      "source": [
        "**‘layer’** is the core building block of a neural network. It is a data processing module which filters the data. Layers are used to extract representations from the data fed to it. These extracted layers can also be arranged in chains which is a form of progressive data distillation. In the following code we have used loss function, optimiser, and metrics to monitor during training and testing."
      ],
      "metadata": {
        "id": "vIJJb1x6CBvu"
      }
    },
    {
      "cell_type": "code",
      "source": [
        "net.compile(optimizer='rmsprop',\n",
        "                loss='categorical_crossentropy',\n",
        "                metrics=['accuracy'])"
      ],
      "metadata": {
        "id": "fKkvlx-YCXrA"
      },
      "execution_count": 29,
      "outputs": []
    },
    {
      "cell_type": "markdown",
      "source": [
        "This code is used to configure the learning process of the model before training it. Here’s what each part of the code does:\n",
        "\n",
        "* optimizer='rmsprop': This sets the optimizer for the model. The optimizer is the algorithm that the model uses to adjust its weights based on the data it sees and its loss function. RMSprop is a popular optimizer that works well in practice and deals with some of the shortcomings of the simple stochastic gradient descent.\n",
        "* loss='categorical_crossentropy': This sets the loss function for the model. The loss function is used to measure how well the model did on training, and thus how it should update its weights. Categorical cross entropy is a common loss function and is often used for multi-class classification. This function calculates the cross entropy loss between the true labels and the predicted labels.\n",
        "* metrics=['accuracy']: This sets the list of metrics to be evaluated by the model during training and testing. In this case, we’re just interested in accuracy. The accuracy metric calculates the proportion of the correctly predicted labels to the total number of samples."
      ],
      "metadata": {
        "id": "KfdRb29sDvdJ"
      }
    },
    {
      "cell_type": "markdown",
      "source": [
        "**Data Preparation:**\n",
        "\n",
        "We have used a reshape function to change the dimension of the array without changing the data in the following code. This is the data preparation step."
      ],
      "metadata": {
        "id": "MrPLKG44E3vw"
      }
    },
    {
      "cell_type": "code",
      "source": [
        "\n",
        "tr_images = tr_images.reshape((60000, 28 * 28))\n",
        "tr_images = tr_images.astype('float32') / 255\n",
        "\n",
        "te_images = te_images.reshape((10000, 28 * 28))\n",
        "te_images = te_images.astype('float32') / 255"
      ],
      "metadata": {
        "id": "iQwR3cfBEhwt"
      },
      "execution_count": 30,
      "outputs": []
    },
    {
      "cell_type": "markdown",
      "source": [
        "Preparing labels of the dataset in categorical format:"
      ],
      "metadata": {
        "id": "DBqfWUMyF1ul"
      }
    },
    {
      "cell_type": "code",
      "source": [
        "from keras.utils import to_categorical\n",
        "\n",
        "tr_labels = to_categorical(tr_labels)\n",
        "te_labels = to_categorical(te_labels)"
      ],
      "metadata": {
        "id": "K0x0uogbFRVZ"
      },
      "execution_count": 34,
      "outputs": []
    },
    {
      "cell_type": "markdown",
      "source": [
        "**Finally training the dataset using fit function:**\n",
        "\n",
        "We have used two epochs. The model received accuracy of 92% in the first epoch and 96% in the second epoch."
      ],
      "metadata": {
        "id": "Jj4s3lREGOZg"
      }
    },
    {
      "cell_type": "code",
      "source": [
        "net.fit(tr_images, tr_labels, epochs=2, batch_size=128)"
      ],
      "metadata": {
        "colab": {
          "base_uri": "https://localhost:8080/"
        },
        "id": "6dvS1HATF9bH",
        "outputId": "d1b897e6-b465-4bcc-ec35-b2baeabe8118"
      },
      "execution_count": 38,
      "outputs": [
        {
          "output_type": "stream",
          "name": "stdout",
          "text": [
            "Epoch 1/2\n",
            "469/469 [==============================] - 6s 11ms/step - loss: 0.2626 - accuracy: 0.9240\n",
            "Epoch 2/2\n",
            "469/469 [==============================] - 4s 9ms/step - loss: 0.1079 - accuracy: 0.9682\n"
          ]
        },
        {
          "output_type": "execute_result",
          "data": {
            "text/plain": [
              "<keras.src.callbacks.History at 0x7e2e001d5d50>"
            ]
          },
          "metadata": {},
          "execution_count": 38
        }
      ]
    },
    {
      "cell_type": "markdown",
      "source": [
        "**Model Testing:**"
      ],
      "metadata": {
        "id": "1uFGxco8GvJg"
      }
    },
    {
      "cell_type": "code",
      "source": [
        "te_loss, te_acc = net.evaluate(te_images, te_labels)"
      ],
      "metadata": {
        "colab": {
          "base_uri": "https://localhost:8080/"
        },
        "id": "UyARS9aZGy5-",
        "outputId": "b0f60a58-f94c-4ef3-d72a-9b3453e95bb7"
      },
      "execution_count": 39,
      "outputs": [
        {
          "output_type": "stream",
          "name": "stdout",
          "text": [
            "313/313 [==============================] - 1s 2ms/step - loss: 0.0915 - accuracy: 0.9726\n"
          ]
        }
      ]
    },
    {
      "cell_type": "code",
      "source": [
        "print('Test Accuracy:', round(te_acc, 2))"
      ],
      "metadata": {
        "colab": {
          "base_uri": "https://localhost:8080/"
        },
        "id": "8APiz5w_G-ar",
        "outputId": "1d0af5a9-8921-44d7-d1c6-c97ea27370ee"
      },
      "execution_count": 42,
      "outputs": [
        {
          "output_type": "stream",
          "name": "stdout",
          "text": [
            "Test Accuracy: 0.97\n"
          ]
        }
      ]
    }
  ]
}