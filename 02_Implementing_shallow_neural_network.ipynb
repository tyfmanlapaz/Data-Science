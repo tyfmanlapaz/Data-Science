{
  "nbformat": 4,
  "nbformat_minor": 0,
  "metadata": {
    "colab": {
      "provenance": [],
      "authorship_tag": "ABX9TyN0y9gP4W7uIhyrNuD0+IS+",
      "include_colab_link": true
    },
    "kernelspec": {
      "name": "python3",
      "display_name": "Python 3"
    },
    "language_info": {
      "name": "python"
    }
  },
  "cells": [
    {
      "cell_type": "markdown",
      "metadata": {
        "id": "view-in-github",
        "colab_type": "text"
      },
      "source": [
        "<a href=\"https://colab.research.google.com/github/tyfmanlapaz/Data-Science/blob/deep-learning/02_Implementing_shallow_neural_network.ipynb\" target=\"_parent\"><img src=\"https://colab.research.google.com/assets/colab-badge.svg\" alt=\"Open In Colab\"/></a>"
      ]
    },
    {
      "cell_type": "markdown",
      "source": [
        "# 2.1.2 Implementing shallow neural network"
      ],
      "metadata": {
        "id": "qLCWWOuoBLeN"
      }
    },
    {
      "cell_type": "markdown",
      "source": [
        "Importing numpy library for calculations"
      ],
      "metadata": {
        "id": "ZPDupNhIBYol"
      }
    },
    {
      "cell_type": "code",
      "execution_count": 1,
      "metadata": {
        "id": "fWwJc3_1BHYD"
      },
      "outputs": [],
      "source": [
        "import numpy as np"
      ]
    },
    {
      "cell_type": "markdown",
      "source": [
        "Initialising variables for assigning weights\n",
        "\n",
        "\n",
        "> In both cases, np.random.uniform is used to generate random numbers from a uniform distribution, and np.around is used to round these numbers to a specified number of decimal places.\n",
        "\n"
      ],
      "metadata": {
        "id": "93-KreeNBhAG"
      }
    },
    {
      "cell_type": "code",
      "source": [
        "ip_weights = np.around(np.random.uniform(-5,5,size=6), decimals=2)\n",
        "bi_weights = np.around(np.random.uniform(size=3), decimals=2)"
      ],
      "metadata": {
        "id": "kYqeExEcBlN3"
      },
      "execution_count": 11,
      "outputs": []
    },
    {
      "cell_type": "markdown",
      "source": [
        "Printing the random weights which were assigned to the inputs and the biases."
      ],
      "metadata": {
        "id": "ecjvuiNlCaFK"
      }
    },
    {
      "cell_type": "code",
      "source": [
        "print(ip_weights)"
      ],
      "metadata": {
        "colab": {
          "base_uri": "https://localhost:8080/"
        },
        "id": "lfHDfgKlB6jp",
        "outputId": "5dd8fc41-0ee8-4c66-9810-e875129d9257"
      },
      "execution_count": 12,
      "outputs": [
        {
          "output_type": "stream",
          "name": "stdout",
          "text": [
            "[ 1.77  0.43 -0.93 -2.37  4.56 -0.37]\n"
          ]
        }
      ]
    },
    {
      "cell_type": "code",
      "source": [
        "print(bi_weights)"
      ],
      "metadata": {
        "colab": {
          "base_uri": "https://localhost:8080/"
        },
        "id": "P0Vx6rD5B-GJ",
        "outputId": "4a02ecdb-a21e-444a-855f-1435c5690596"
      },
      "execution_count": 13,
      "outputs": [
        {
          "output_type": "stream",
          "name": "stdout",
          "text": [
            "[0.51 0.75 0.87]\n"
          ]
        }
      ]
    },
    {
      "cell_type": "markdown",
      "source": [
        "**Assigning values to input parameters.**"
      ],
      "metadata": {
        "id": "crbbsc_6CsHd"
      }
    },
    {
      "cell_type": "code",
      "source": [
        "# By default, the value for biases is equal to 1.\n",
        "x1 = 0.5\n",
        "x2 = 0.82\n",
        "\n",
        "print('Input x1 is {} & Input x2 is {}'.format(x1,x2))"
      ],
      "metadata": {
        "colab": {
          "base_uri": "https://localhost:8080/"
        },
        "id": "ax-hAGprCZsL",
        "outputId": "15208401-af7f-46cc-f1c6-b6616b611658"
      },
      "execution_count": 14,
      "outputs": [
        {
          "output_type": "stream",
          "name": "stdout",
          "text": [
            "Input x1 is 0.5 & Input x2 is 0.82\n"
          ]
        }
      ]
    },
    {
      "cell_type": "markdown",
      "source": [
        "Now, let us calculate the linear combination of inputs and their weights which will be the first node in the hidden layer.\n",
        "\n",
        "**Linear combination of inputs for the first hidden layer:**"
      ],
      "metadata": {
        "id": "-BuWzaDIC3c5"
      }
    },
    {
      "cell_type": "code",
      "source": [
        "z11 = x1 * ip_weights[0] + x2 * ip_weights[1] + bi_weights[0]\n",
        "\n",
        "print('The linear combination of inputs for first hidden layer is {}'.format(z11))"
      ],
      "metadata": {
        "colab": {
          "base_uri": "https://localhost:8080/"
        },
        "id": "ZCIiRYjNC6eE",
        "outputId": "fb5c95e8-141a-4b80-9e9e-1df0d5678881"
      },
      "execution_count": 15,
      "outputs": [
        {
          "output_type": "stream",
          "name": "stdout",
          "text": [
            "The linear combination of inputs for first hidden layer is 1.7476\n"
          ]
        }
      ]
    },
    {
      "cell_type": "markdown",
      "source": [
        "**Linear combination of inputs for the second node of the hidden layer:**"
      ],
      "metadata": {
        "id": "1YRUV6DgDP16"
      }
    },
    {
      "cell_type": "code",
      "source": [
        "z12 = x1 * ip_weights[2] + x2 * ip_weights[3] + bi_weights[1]\n",
        "\n",
        "print('The linear combination of inputs for the second node of the hidden layer is {}'.format(z12))"
      ],
      "metadata": {
        "colab": {
          "base_uri": "https://localhost:8080/"
        },
        "id": "36f2wWsdDkoM",
        "outputId": "aece47d3-ebf3-4ee2-9da4-6eab50de5107"
      },
      "execution_count": 16,
      "outputs": [
        {
          "output_type": "stream",
          "name": "stdout",
          "text": [
            "The linear combination of inputs for the second node of the hidden layer is -1.6583999999999999\n"
          ]
        }
      ]
    },
    {
      "cell_type": "markdown",
      "source": [
        "Now that we're done with the summation, it is time to feed this into the activation functions.\n",
        "\n",
        "We're using ReLU as our activation function for this hidden layer."
      ],
      "metadata": {
        "id": "g65A2nt1DwYN"
      }
    },
    {
      "cell_type": "markdown",
      "source": [
        "**Output of the activation function at the first node of the hidden layer:**"
      ],
      "metadata": {
        "id": "KoVLwyxAD84D"
      }
    },
    {
      "cell_type": "code",
      "source": [
        "a11 = max(0.0, z11)\n",
        "\n",
        "print('The output of the activation function at the first node of the hidden layer is {}'.format(np.around(a11, decimals=4)))"
      ],
      "metadata": {
        "colab": {
          "base_uri": "https://localhost:8080/"
        },
        "id": "pepTiIqFD1OU",
        "outputId": "70623f1c-3c6b-4a85-da52-1d1447e37452"
      },
      "execution_count": 17,
      "outputs": [
        {
          "output_type": "stream",
          "name": "stdout",
          "text": [
            "The output of the activation function at the first node of the hidden layer is 1.7476\n"
          ]
        }
      ]
    },
    {
      "cell_type": "markdown",
      "source": [
        "**Output of the activation function at the second node of the hidden layer:**"
      ],
      "metadata": {
        "id": "2Zyg_7LjEtXe"
      }
    },
    {
      "cell_type": "code",
      "source": [
        "a12 = max(0.0, z12)\n",
        "\n",
        "print('The output of the activation function at the second node of the hidden layer is {}'.format(np.around(a12, decimals=4)))"
      ],
      "metadata": {
        "colab": {
          "base_uri": "https://localhost:8080/"
        },
        "id": "aFPBMlfdEyFq",
        "outputId": "ea50c25f-494e-4329-8b80-fa0b2ab257ae"
      },
      "execution_count": 19,
      "outputs": [
        {
          "output_type": "stream",
          "name": "stdout",
          "text": [
            "The output of the activation function at the second node of the hidden layer is 0.0\n"
          ]
        }
      ]
    },
    {
      "cell_type": "markdown",
      "source": [
        "Now, these outputs serve as the inputs to the output layer. So, we have to repeat the last few steps in assigning weights and computing linear combinations of inputs and then passing that into the activation function."
      ],
      "metadata": {
        "id": "EEJt2P4bE9sL"
      }
    },
    {
      "cell_type": "markdown",
      "source": [
        "**Linear Combination of Inputs at the outer layer:**"
      ],
      "metadata": {
        "id": "beTiPOc_FSqC"
      }
    },
    {
      "cell_type": "code",
      "source": [
        "z2 = a11 * ip_weights[4] + a12 * ip_weights[5] + bi_weights[2]\n",
        "\n",
        "print('The linear combination of inputs at the output layer is {}'.format(z2))"
      ],
      "metadata": {
        "colab": {
          "base_uri": "https://localhost:8080/"
        },
        "id": "s4dLfetEFKD0",
        "outputId": "350bd947-c9e6-4fa8-92f0-1634852224b4"
      },
      "execution_count": 20,
      "outputs": [
        {
          "output_type": "stream",
          "name": "stdout",
          "text": [
            "The linear combination of inputs at the output layer is 8.839056\n"
          ]
        }
      ]
    },
    {
      "cell_type": "markdown",
      "source": [
        "Here, we can feed this summation into a non-linear activation function known as sigmoid function which is best suited for the output layer."
      ],
      "metadata": {
        "id": "ioVtLNTzFe4_"
      }
    },
    {
      "cell_type": "code",
      "source": [
        "y = 1.0 / (1.0 + np.exp(-z2))\n",
        "\n",
        "print('The output of the network for the given inputs is {}'.format(np.around(y, decimals=6)))"
      ],
      "metadata": {
        "colab": {
          "base_uri": "https://localhost:8080/"
        },
        "id": "283SA3RlFf7R",
        "outputId": "d0326d31-8880-49ae-813a-50f174dbaed1"
      },
      "execution_count": 21,
      "outputs": [
        {
          "output_type": "stream",
          "name": "stdout",
          "text": [
            "The output of the network for the given inputs is 0.999855\n"
          ]
        }
      ]
    },
    {
      "cell_type": "markdown",
      "source": [
        "**This is how SNN can be implemented.**\n",
        "\n",
        "\n"
      ],
      "metadata": {
        "id": "qrYD2tL9FrVU"
      }
    }
  ]
}